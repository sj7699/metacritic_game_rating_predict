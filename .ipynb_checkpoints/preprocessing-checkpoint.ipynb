{
 "cells": [
  {
   "cell_type": "markdown",
   "id": "6667755a",
   "metadata": {},
   "source": [
    "전처리"
   ]
  },
  {
   "cell_type": "code",
   "execution_count": 1,
   "id": "82781157",
   "metadata": {},
   "outputs": [],
   "source": [
    "import warnings\n",
    "import numpy as np\n",
    "import pandas as pd\n",
    "import matplotlib.pyplot as plt\n",
    "import mplcursors # Use this is for creating a cursor-interactive plot with \"%matplotlib notebook\"\n",
    "from sklearn.decomposition import NMF # Use this for training Non-negative Matrix Factorization\n",
    "from sklearn.utils.extmath import randomized_svd # Use this for training Singular Value Decomposition\n",
    "from sklearn.manifold import TSNE # Use this for training t-sne manifolding\n",
    "\n",
    "plt.style.use('ggplot') # You can also use different style\n",
    "\n",
    "# just for plot checking, use this option\n",
    "# %matplotlib inline\n",
    "\n",
    "# for interactive plot\n",
    "# If you use this option, plot will appear at first-drawn position\n",
    "%matplotlib notebook\n",
    "\n",
    "warnings.filterwarnings('ignore')"
   ]
  },
  {
   "cell_type": "markdown",
   "id": "4539bd58",
   "metadata": {},
   "source": [
    "데이터셋 불러오기\n",
    "데이터셋 출처 https://www.kaggle.com/datasets/deepcontractor/top-video-games-19952021-metacritic\n",
    "데이터셋 1995년부터 2021년까지의 자료\n",
    "all_games.csv의 칼럼\n",
    "names platform release_date summary(게임 요약) meta_score(전문가 스코어 100점만점) user_review(유저스코어 10점만점)\n"
   ]
  },
  {
   "cell_type": "code",
   "execution_count": 2,
   "id": "7d0ba9f4",
   "metadata": {},
   "outputs": [],
   "source": [
    "dir = './dataset/'\n",
    "df_games=pd.read_csv(dir+'all_games.csv',usecols=['name','platform','release_date','meta_score','user_review'])"
   ]
  },
  {
   "cell_type": "markdown",
   "id": "1c8411bc",
   "metadata": {},
   "source": [
    "게임수 파악\n",
    "6546개의 플랫폼이 다른 동일 게임이 존재 "
   ]
  },
  {
   "cell_type": "code",
   "execution_count": 3,
   "id": "3fad3555",
   "metadata": {},
   "outputs": [
    {
     "data": {
      "text/plain": [
       "(18800, 12254, 6546)"
      ]
     },
     "execution_count": 3,
     "metadata": {},
     "output_type": "execute_result"
    }
   ],
   "source": [
    "n_games=len(df_games['name'])\n",
    "n_game_same_name=len(df_games['name'].unique())\n",
    "n_games,n_game_same_name,n_games-n_game_same_name"
   ]
  },
  {
   "cell_type": "markdown",
   "id": "b3c233aa",
   "metadata": {},
   "source": [
    "이름이없는 row 존재하지않음"
   ]
  },
  {
   "cell_type": "code",
   "execution_count": 4,
   "id": "4928733f",
   "metadata": {},
   "outputs": [
    {
     "data": {
      "text/plain": [
       "0"
      ]
     },
     "execution_count": 4,
     "metadata": {},
     "output_type": "execute_result"
    }
   ],
   "source": [
    "len(df_games)-n_games"
   ]
  },
  {
   "cell_type": "markdown",
   "id": "7cdf7c23",
   "metadata": {},
   "source": [
    "칼럼 타입 확인하기"
   ]
  },
  {
   "cell_type": "code",
   "execution_count": 5,
   "id": "38d5f13e",
   "metadata": {},
   "outputs": [
    {
     "data": {
      "text/plain": [
       "name            object\n",
       "platform        object\n",
       "release_date    object\n",
       "meta_score       int64\n",
       "user_review     object\n",
       "dtype: object"
      ]
     },
     "execution_count": 5,
     "metadata": {},
     "output_type": "execute_result"
    }
   ],
   "source": [
    "df_games.dtypes"
   ]
  },
  {
   "cell_type": "markdown",
   "id": "7929c458",
   "metadata": {},
   "source": [
    "object타입 칼럼을 string으로 변경\n",
    "\n",
    "user_review칼럼에서 tbd(미정)값 존재 확인"
   ]
  },
  {
   "cell_type": "code",
   "execution_count": 6,
   "id": "3581e684",
   "metadata": {},
   "outputs": [
    {
     "data": {
      "text/html": [
       "<div>\n",
       "<style scoped>\n",
       "    .dataframe tbody tr th:only-of-type {\n",
       "        vertical-align: middle;\n",
       "    }\n",
       "\n",
       "    .dataframe tbody tr th {\n",
       "        vertical-align: top;\n",
       "    }\n",
       "\n",
       "    .dataframe thead th {\n",
       "        text-align: right;\n",
       "    }\n",
       "</style>\n",
       "<table border=\"1\" class=\"dataframe\">\n",
       "  <thead>\n",
       "    <tr style=\"text-align: right;\">\n",
       "      <th></th>\n",
       "      <th>name</th>\n",
       "      <th>platform</th>\n",
       "      <th>release_date</th>\n",
       "      <th>meta_score</th>\n",
       "      <th>user_review</th>\n",
       "    </tr>\n",
       "  </thead>\n",
       "  <tbody>\n",
       "    <tr>\n",
       "      <th>0</th>\n",
       "      <td>The Legend of Zelda: Ocarina of Time</td>\n",
       "      <td>Nintendo 64</td>\n",
       "      <td>November 23, 1998</td>\n",
       "      <td>99</td>\n",
       "      <td>9.1</td>\n",
       "    </tr>\n",
       "    <tr>\n",
       "      <th>1</th>\n",
       "      <td>Tony Hawk's Pro Skater 2</td>\n",
       "      <td>PlayStation</td>\n",
       "      <td>September 20, 2000</td>\n",
       "      <td>98</td>\n",
       "      <td>7.4</td>\n",
       "    </tr>\n",
       "    <tr>\n",
       "      <th>2</th>\n",
       "      <td>Grand Theft Auto IV</td>\n",
       "      <td>PlayStation 3</td>\n",
       "      <td>April 29, 2008</td>\n",
       "      <td>98</td>\n",
       "      <td>7.7</td>\n",
       "    </tr>\n",
       "    <tr>\n",
       "      <th>3</th>\n",
       "      <td>SoulCalibur</td>\n",
       "      <td>Dreamcast</td>\n",
       "      <td>September 8, 1999</td>\n",
       "      <td>98</td>\n",
       "      <td>8.4</td>\n",
       "    </tr>\n",
       "    <tr>\n",
       "      <th>4</th>\n",
       "      <td>Grand Theft Auto IV</td>\n",
       "      <td>Xbox 360</td>\n",
       "      <td>April 29, 2008</td>\n",
       "      <td>98</td>\n",
       "      <td>7.9</td>\n",
       "    </tr>\n",
       "    <tr>\n",
       "      <th>...</th>\n",
       "      <td>...</td>\n",
       "      <td>...</td>\n",
       "      <td>...</td>\n",
       "      <td>...</td>\n",
       "      <td>...</td>\n",
       "    </tr>\n",
       "    <tr>\n",
       "      <th>18795</th>\n",
       "      <td>Fast &amp; Furious: Showdown</td>\n",
       "      <td>Xbox 360</td>\n",
       "      <td>May 21, 2013</td>\n",
       "      <td>22</td>\n",
       "      <td>1.3</td>\n",
       "    </tr>\n",
       "    <tr>\n",
       "      <th>18796</th>\n",
       "      <td>Drake of the 99 Dragons</td>\n",
       "      <td>Xbox</td>\n",
       "      <td>November 3, 2003</td>\n",
       "      <td>22</td>\n",
       "      <td>1.7</td>\n",
       "    </tr>\n",
       "    <tr>\n",
       "      <th>18797</th>\n",
       "      <td>Afro Samurai 2: Revenge of Kuma Volume One</td>\n",
       "      <td>PlayStation 4</td>\n",
       "      <td>September 22, 2015</td>\n",
       "      <td>21</td>\n",
       "      <td>2.9</td>\n",
       "    </tr>\n",
       "    <tr>\n",
       "      <th>18798</th>\n",
       "      <td>Infestation: Survivor Stories (The War Z)</td>\n",
       "      <td>PC</td>\n",
       "      <td>October 15, 2012</td>\n",
       "      <td>20</td>\n",
       "      <td>1.7</td>\n",
       "    </tr>\n",
       "    <tr>\n",
       "      <th>18799</th>\n",
       "      <td>Leisure Suit Larry: Box Office Bust</td>\n",
       "      <td>PC</td>\n",
       "      <td>March 31, 2009</td>\n",
       "      <td>20</td>\n",
       "      <td>2.0</td>\n",
       "    </tr>\n",
       "  </tbody>\n",
       "</table>\n",
       "<p>18800 rows × 5 columns</p>\n",
       "</div>"
      ],
      "text/plain": [
       "                                             name        platform  \\\n",
       "0            The Legend of Zelda: Ocarina of Time     Nintendo 64   \n",
       "1                        Tony Hawk's Pro Skater 2     PlayStation   \n",
       "2                             Grand Theft Auto IV   PlayStation 3   \n",
       "3                                     SoulCalibur       Dreamcast   \n",
       "4                             Grand Theft Auto IV        Xbox 360   \n",
       "...                                           ...             ...   \n",
       "18795                    Fast & Furious: Showdown        Xbox 360   \n",
       "18796                     Drake of the 99 Dragons            Xbox   \n",
       "18797  Afro Samurai 2: Revenge of Kuma Volume One   PlayStation 4   \n",
       "18798   Infestation: Survivor Stories (The War Z)              PC   \n",
       "18799         Leisure Suit Larry: Box Office Bust              PC   \n",
       "\n",
       "             release_date  meta_score user_review  \n",
       "0       November 23, 1998          99         9.1  \n",
       "1      September 20, 2000          98         7.4  \n",
       "2          April 29, 2008          98         7.7  \n",
       "3       September 8, 1999          98         8.4  \n",
       "4          April 29, 2008          98         7.9  \n",
       "...                   ...         ...         ...  \n",
       "18795        May 21, 2013          22         1.3  \n",
       "18796    November 3, 2003          22         1.7  \n",
       "18797  September 22, 2015          21         2.9  \n",
       "18798    October 15, 2012          20         1.7  \n",
       "18799      March 31, 2009          20         2.0  \n",
       "\n",
       "[18800 rows x 5 columns]"
      ]
     },
     "execution_count": 6,
     "metadata": {},
     "output_type": "execute_result"
    }
   ],
   "source": [
    "df_games.astype({'name':'string','platform':'string','release_date':'string','user_review':'string'})"
   ]
  },
  {
   "cell_type": "markdown",
   "id": "a5c7d937",
   "metadata": {},
   "source": [
    "user review칼럼에서 tbd값이 포함된 row처리?\n",
    "\n",
    "일단 0.0점으로 변경(알고리즘에 따라 달라질듯)"
   ]
  },
  {
   "cell_type": "code",
   "execution_count": 10,
   "id": "5013ce0a",
   "metadata": {},
   "outputs": [],
   "source": [
    "df_games.loc[df_games.user_review=='tbd','user_review']='0.0'"
   ]
  },
  {
   "cell_type": "markdown",
   "id": "0f7eba3f",
   "metadata": {},
   "source": [
    "tbd값 처리후 데이터타입 float으로 변경"
   ]
  },
  {
   "cell_type": "code",
   "execution_count": 11,
   "id": "6a76aa40",
   "metadata": {},
   "outputs": [
    {
     "data": {
      "text/html": [
       "<div>\n",
       "<style scoped>\n",
       "    .dataframe tbody tr th:only-of-type {\n",
       "        vertical-align: middle;\n",
       "    }\n",
       "\n",
       "    .dataframe tbody tr th {\n",
       "        vertical-align: top;\n",
       "    }\n",
       "\n",
       "    .dataframe thead th {\n",
       "        text-align: right;\n",
       "    }\n",
       "</style>\n",
       "<table border=\"1\" class=\"dataframe\">\n",
       "  <thead>\n",
       "    <tr style=\"text-align: right;\">\n",
       "      <th></th>\n",
       "      <th>name</th>\n",
       "      <th>platform</th>\n",
       "      <th>release_date</th>\n",
       "      <th>meta_score</th>\n",
       "      <th>user_review</th>\n",
       "    </tr>\n",
       "  </thead>\n",
       "  <tbody>\n",
       "    <tr>\n",
       "      <th>0</th>\n",
       "      <td>The Legend of Zelda: Ocarina of Time</td>\n",
       "      <td>Nintendo 64</td>\n",
       "      <td>November 23, 1998</td>\n",
       "      <td>99</td>\n",
       "      <td>9.1</td>\n",
       "    </tr>\n",
       "    <tr>\n",
       "      <th>1</th>\n",
       "      <td>Tony Hawk's Pro Skater 2</td>\n",
       "      <td>PlayStation</td>\n",
       "      <td>September 20, 2000</td>\n",
       "      <td>98</td>\n",
       "      <td>7.4</td>\n",
       "    </tr>\n",
       "    <tr>\n",
       "      <th>2</th>\n",
       "      <td>Grand Theft Auto IV</td>\n",
       "      <td>PlayStation 3</td>\n",
       "      <td>April 29, 2008</td>\n",
       "      <td>98</td>\n",
       "      <td>7.7</td>\n",
       "    </tr>\n",
       "    <tr>\n",
       "      <th>3</th>\n",
       "      <td>SoulCalibur</td>\n",
       "      <td>Dreamcast</td>\n",
       "      <td>September 8, 1999</td>\n",
       "      <td>98</td>\n",
       "      <td>8.4</td>\n",
       "    </tr>\n",
       "    <tr>\n",
       "      <th>4</th>\n",
       "      <td>Grand Theft Auto IV</td>\n",
       "      <td>Xbox 360</td>\n",
       "      <td>April 29, 2008</td>\n",
       "      <td>98</td>\n",
       "      <td>7.9</td>\n",
       "    </tr>\n",
       "    <tr>\n",
       "      <th>...</th>\n",
       "      <td>...</td>\n",
       "      <td>...</td>\n",
       "      <td>...</td>\n",
       "      <td>...</td>\n",
       "      <td>...</td>\n",
       "    </tr>\n",
       "    <tr>\n",
       "      <th>18795</th>\n",
       "      <td>Fast &amp; Furious: Showdown</td>\n",
       "      <td>Xbox 360</td>\n",
       "      <td>May 21, 2013</td>\n",
       "      <td>22</td>\n",
       "      <td>1.3</td>\n",
       "    </tr>\n",
       "    <tr>\n",
       "      <th>18796</th>\n",
       "      <td>Drake of the 99 Dragons</td>\n",
       "      <td>Xbox</td>\n",
       "      <td>November 3, 2003</td>\n",
       "      <td>22</td>\n",
       "      <td>1.7</td>\n",
       "    </tr>\n",
       "    <tr>\n",
       "      <th>18797</th>\n",
       "      <td>Afro Samurai 2: Revenge of Kuma Volume One</td>\n",
       "      <td>PlayStation 4</td>\n",
       "      <td>September 22, 2015</td>\n",
       "      <td>21</td>\n",
       "      <td>2.9</td>\n",
       "    </tr>\n",
       "    <tr>\n",
       "      <th>18798</th>\n",
       "      <td>Infestation: Survivor Stories (The War Z)</td>\n",
       "      <td>PC</td>\n",
       "      <td>October 15, 2012</td>\n",
       "      <td>20</td>\n",
       "      <td>1.7</td>\n",
       "    </tr>\n",
       "    <tr>\n",
       "      <th>18799</th>\n",
       "      <td>Leisure Suit Larry: Box Office Bust</td>\n",
       "      <td>PC</td>\n",
       "      <td>March 31, 2009</td>\n",
       "      <td>20</td>\n",
       "      <td>2.0</td>\n",
       "    </tr>\n",
       "  </tbody>\n",
       "</table>\n",
       "<p>18800 rows × 5 columns</p>\n",
       "</div>"
      ],
      "text/plain": [
       "                                             name        platform  \\\n",
       "0            The Legend of Zelda: Ocarina of Time     Nintendo 64   \n",
       "1                        Tony Hawk's Pro Skater 2     PlayStation   \n",
       "2                             Grand Theft Auto IV   PlayStation 3   \n",
       "3                                     SoulCalibur       Dreamcast   \n",
       "4                             Grand Theft Auto IV        Xbox 360   \n",
       "...                                           ...             ...   \n",
       "18795                    Fast & Furious: Showdown        Xbox 360   \n",
       "18796                     Drake of the 99 Dragons            Xbox   \n",
       "18797  Afro Samurai 2: Revenge of Kuma Volume One   PlayStation 4   \n",
       "18798   Infestation: Survivor Stories (The War Z)              PC   \n",
       "18799         Leisure Suit Larry: Box Office Bust              PC   \n",
       "\n",
       "             release_date  meta_score  user_review  \n",
       "0       November 23, 1998          99          9.1  \n",
       "1      September 20, 2000          98          7.4  \n",
       "2          April 29, 2008          98          7.7  \n",
       "3       September 8, 1999          98          8.4  \n",
       "4          April 29, 2008          98          7.9  \n",
       "...                   ...         ...          ...  \n",
       "18795        May 21, 2013          22          1.3  \n",
       "18796    November 3, 2003          22          1.7  \n",
       "18797  September 22, 2015          21          2.9  \n",
       "18798    October 15, 2012          20          1.7  \n",
       "18799      March 31, 2009          20          2.0  \n",
       "\n",
       "[18800 rows x 5 columns]"
      ]
     },
     "execution_count": 11,
     "metadata": {},
     "output_type": "execute_result"
    }
   ],
   "source": [
    "df_games.astype({'user_review':'float'})"
   ]
  },
  {
   "cell_type": "markdown",
   "id": "85338675",
   "metadata": {},
   "source": [
    "칼럼추가"
   ]
  },
  {
   "cell_type": "markdown",
   "id": "0cd25b06",
   "metadata": {},
   "source": [
    "데이터프레임 csv로 변환"
   ]
  },
  {
   "cell_type": "code",
   "execution_count": 12,
   "id": "24d9f6f8",
   "metadata": {},
   "outputs": [],
   "source": [
    "df_games.to_csv(dir+'all_games_proc.csv',sep=',',float_format='%.2f',index=False)"
   ]
  },
  {
   "cell_type": "code",
   "execution_count": null,
   "id": "54ccb6f5",
   "metadata": {},
   "outputs": [],
   "source": []
  }
 ],
 "metadata": {
  "kernelspec": {
   "display_name": "Python 3 (ipykernel)",
   "language": "python",
   "name": "python3"
  },
  "language_info": {
   "codemirror_mode": {
    "name": "ipython",
    "version": 3
   },
   "file_extension": ".py",
   "mimetype": "text/x-python",
   "name": "python",
   "nbconvert_exporter": "python",
   "pygments_lexer": "ipython3",
   "version": "3.7.11"
  }
 },
 "nbformat": 4,
 "nbformat_minor": 5
}
