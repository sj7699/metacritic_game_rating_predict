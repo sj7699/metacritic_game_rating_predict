{
 "cells": [
  {
   "cell_type": "markdown",
   "id": "1d39478c",
   "metadata": {},
   "source": [
    "칼럼 분석 및 시각화"
   ]
  },
  {
   "cell_type": "code",
   "execution_count": 4,
   "id": "33c4bbfc",
   "metadata": {},
   "outputs": [],
   "source": [
    "import warnings\n",
    "import numpy as np\n",
    "import pandas as pd\n",
    "import matplotlib.pyplot as plt\n",
    "import mplcursors # Use this is for creating a cursor-interactive plot with \"%matplotlib notebook\"\n",
    "from sklearn.decomposition import NMF # Use this for training Non-negative Matrix Factorization\n",
    "from sklearn.utils.extmath import randomized_svd # Use this for training Singular Value Decomposition\n",
    "from sklearn.manifold import TSNE # Use this for training t-sne manifolding\n",
    "\n",
    "plt.style.use('ggplot') # You can also use different style\n",
    "\n",
    "# just for plot checking, use this option\n",
    "# %matplotlib inline\n",
    "\n",
    "# for interactive plot\n",
    "# If you use this option, plot will appear at first-drawn position\n",
    "%matplotlib notebook\n",
    "\n",
    "warnings.filterwarnings('ignore')"
   ]
  },
  {
   "cell_type": "markdown",
   "id": "f0998703",
   "metadata": {},
   "source": [
    "전처리된 데이터셋 불러오기"
   ]
  },
  {
   "cell_type": "code",
   "execution_count": 5,
   "id": "d43269d2",
   "metadata": {},
   "outputs": [
    {
     "data": {
      "text/plain": [
       "name             object\n",
       "platform         object\n",
       "release_date     object\n",
       "meta_score        int64\n",
       "user_review     float64\n",
       "dtype: object"
      ]
     },
     "execution_count": 5,
     "metadata": {},
     "output_type": "execute_result"
    }
   ],
   "source": [
    "dir = './dataset/'\n",
    "df_games=pd.read_csv(dir+'all_games_proc.csv')\n",
    "df_games.astype({'name':'string','platform':'string','release_date':'string'})\n",
    "df_games.dtypes"
   ]
  },
  {
   "cell_type": "code",
   "execution_count": null,
   "id": "69e5c266",
   "metadata": {},
   "outputs": [],
   "source": []
  }
 ],
 "metadata": {
  "kernelspec": {
   "display_name": "Python 3 (ipykernel)",
   "language": "python",
   "name": "python3"
  },
  "language_info": {
   "codemirror_mode": {
    "name": "ipython",
    "version": 3
   },
   "file_extension": ".py",
   "mimetype": "text/x-python",
   "name": "python",
   "nbconvert_exporter": "python",
   "pygments_lexer": "ipython3",
   "version": "3.7.11"
  }
 },
 "nbformat": 4,
 "nbformat_minor": 5
}
