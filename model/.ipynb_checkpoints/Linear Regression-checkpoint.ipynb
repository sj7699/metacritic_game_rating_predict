{
 "cells": [
  {
   "cell_type": "markdown",
   "id": "4ebe6de4",
   "metadata": {},
   "source": [
    "범주형 데이터 장르를 이용한 테스트"
   ]
  },
  {
   "cell_type": "code",
   "execution_count": 65,
   "id": "58430e4b",
   "metadata": {},
   "outputs": [],
   "source": [
    "import re\n",
    "import requests\n",
    "import pandas as pd\n",
    "import numpy as np\n",
    "import warnings\n",
    "from sklearn.preprocessing import OneHotEncoder\n",
    "from sklearn.compose import ColumnTransformer\n",
    "from sklearn.preprocessing import StandardScaler\n",
    "from sklearn.linear_model import LinearRegression\n",
    "from sklearn.model_selection import train_test_split\n",
    "warnings.filterwarnings(action='ignore')"
   ]
  },
  {
   "cell_type": "markdown",
   "id": "aacacc76",
   "metadata": {},
   "source": [
    "ps4를 통한 예제"
   ]
  },
  {
   "cell_type": "code",
   "execution_count": 66,
   "id": "5fb41089",
   "metadata": {},
   "outputs": [
    {
     "data": {
      "text/plain": [
       "genres           object\n",
       "metascore         int64\n",
       "developer        object\n",
       "userscore       float64\n",
       "rating           object\n",
       "publisher        object\n",
       "title            object\n",
       "summary          object\n",
       "release_date     object\n",
       "dtype: object"
      ]
     },
     "execution_count": 66,
     "metadata": {},
     "output_type": "execute_result"
    }
   ],
   "source": [
    "df_genres=pd.read_csv(\"../data/ps4.csv\")\n",
    "df_genres.dtypes"
   ]
  },
  {
   "cell_type": "markdown",
   "id": "cdb2717a",
   "metadata": {},
   "source": [
    "장르들은 칼럼하나에 여러개 속해있음\n",
    "장르들을 원핫인코딩으로 변환"
   ]
  },
  {
   "cell_type": "code",
   "execution_count": 80,
   "id": "99499578",
   "metadata": {},
   "outputs": [],
   "source": [
    "dic_genre={}\n",
    "for idx,row in df_genres.iterrows():\n",
    "    nowg=row['genres']\n",
    "    nowg=nowg.split('|')\n",
    "    nowg.pop()\n",
    "    for x in nowg:\n",
    "        if(x in dic_genre):\n",
    "            dic_genre[x]+=1\n",
    "        else:\n",
    "            dic_genre[x]=0\n",
    "lgenres=list(dic_genre.keys())\n",
    "jgenres = pd.DataFrame(np.zeros((len(df_genres), len(lgenres))),columns=lgenres)\n",
    "for i, genre in enumerate(df_genres.genres):\n",
    "    k=genre.split('|')\n",
    "    k.pop()\n",
    "    k=list(set(k))\n",
    "    jgenres.loc[i, k] = 1\n",
    "df_game=df_genres[['metascore','userscore','developer']]\n",
    "df_game_t = df_game.join(jgenres.add_prefix('genre_'))"
   ]
  },
  {
   "cell_type": "markdown",
   "id": "a28546cf",
   "metadata": {},
   "source": [
    "developer를 원핫인코딩으로 변환 메타스코어를 예측할 예정이므로 userscore을 스케일링"
   ]
  },
  {
   "cell_type": "code",
   "execution_count": 81,
   "id": "868d2d7d",
   "metadata": {},
   "outputs": [
    {
     "name": "stdout",
     "output_type": "stream",
     "text": [
      "      metascore  userscore                developer  genre_Simulation  \\\n",
      "0            43        4.4            Bossa Studios               1.0   \n",
      "1            43        4.2          Edge of Reality               0.0   \n",
      "2            43        2.6                EA Sports               0.0   \n",
      "3            43        1.6          Visual Concepts               0.0   \n",
      "4            42        5.6          Viewpoint Games               0.0   \n",
      "...         ...        ...                      ...               ...   \n",
      "2633         87        7.3             MachineGames               0.0   \n",
      "2634         87        8.2              Vanillaware               0.0   \n",
      "2635         87        7.7            From Software               0.0   \n",
      "2636         87        7.8                     Sega               0.0   \n",
      "2637         87        5.2  Double Fine Productions               0.0   \n",
      "\n",
      "      genre_Virtual  genre_Career  genre_Action Adventure  genre_Sci-Fi  \\\n",
      "0               1.0           1.0                     0.0           0.0   \n",
      "1               0.0           0.0                     1.0           1.0   \n",
      "2               0.0           0.0                     0.0           0.0   \n",
      "3               0.0           0.0                     0.0           0.0   \n",
      "4               0.0           0.0                     0.0           0.0   \n",
      "...             ...           ...                     ...           ...   \n",
      "2633            0.0           0.0                     0.0           0.0   \n",
      "2634            0.0           0.0                     0.0           0.0   \n",
      "2635            0.0           0.0                     0.0           0.0   \n",
      "2636            0.0           0.0                     0.0           0.0   \n",
      "2637            0.0           0.0                     1.0           0.0   \n",
      "\n",
      "      genre_General  genre_Arcade  ...  genre_Logic  \\\n",
      "0               0.0           0.0  ...          0.0   \n",
      "1               1.0           0.0  ...          0.0   \n",
      "2               0.0           1.0  ...          0.0   \n",
      "3               0.0           0.0  ...          0.0   \n",
      "4               0.0           1.0  ...          0.0   \n",
      "...             ...           ...  ...          ...   \n",
      "2633            0.0           1.0  ...          0.0   \n",
      "2634            0.0           0.0  ...          0.0   \n",
      "2635            0.0           0.0  ...          0.0   \n",
      "2636            0.0           0.0  ...          0.0   \n",
      "2637            0.0           0.0  ...          0.0   \n",
      "\n",
      "      genre_Massively Multiplayer Online  genre_Static  genre_Application  \\\n",
      "0                                    0.0           0.0                0.0   \n",
      "1                                    0.0           0.0                0.0   \n",
      "2                                    0.0           0.0                0.0   \n",
      "3                                    0.0           0.0                0.0   \n",
      "4                                    0.0           0.0                0.0   \n",
      "...                                  ...           ...                ...   \n",
      "2633                                 0.0           0.0                0.0   \n",
      "2634                                 0.0           0.0                0.0   \n",
      "2635                                 0.0           0.0                0.0   \n",
      "2636                                 0.0           0.0                0.0   \n",
      "2637                                 0.0           0.0                0.0   \n",
      "\n",
      "      genre_Tycoon  genre_Train  genre_Edutainment  genre_Party  \\\n",
      "0              0.0          0.0                0.0          0.0   \n",
      "1              0.0          0.0                0.0          0.0   \n",
      "2              0.0          0.0                0.0          0.0   \n",
      "3              0.0          0.0                0.0          0.0   \n",
      "4              0.0          0.0                0.0          0.0   \n",
      "...            ...          ...                ...          ...   \n",
      "2633           0.0          0.0                0.0          0.0   \n",
      "2634           0.0          0.0                0.0          0.0   \n",
      "2635           0.0          0.0                0.0          0.0   \n",
      "2636           0.0          0.0                0.0          0.0   \n",
      "2637           0.0          0.0                0.0          0.0   \n",
      "\n",
      "      genre_Music Maker  genre_Skateboarding  \n",
      "0                   0.0                  0.0  \n",
      "1                   0.0                  0.0  \n",
      "2                   0.0                  0.0  \n",
      "3                   0.0                  0.0  \n",
      "4                   0.0                  0.0  \n",
      "...                 ...                  ...  \n",
      "2633                0.0                  0.0  \n",
      "2634                0.0                  0.0  \n",
      "2635                0.0                  0.0  \n",
      "2636                0.0                  0.0  \n",
      "2637                0.0                  0.0  \n",
      "\n",
      "[2638 rows x 133 columns]\n"
     ]
    }
   ],
   "source": [
    "print(df_game_t)\n",
    "df_game_t=pd.get_dummies(df_game_t,columns=['developer'])"
   ]
  },
  {
   "cell_type": "markdown",
   "id": "dac2c958",
   "metadata": {},
   "source": [
    "훈련용 x축 y축 추출"
   ]
  },
  {
   "cell_type": "code",
   "execution_count": 93,
   "id": "0e7507f0",
   "metadata": {
    "scrolled": true
   },
   "outputs": [
    {
     "name": "stdout",
     "output_type": "stream",
     "text": [
      "(1978, 1)\n"
     ]
    },
    {
     "data": {
      "text/html": [
       "<div>\n",
       "<style scoped>\n",
       "    .dataframe tbody tr th:only-of-type {\n",
       "        vertical-align: middle;\n",
       "    }\n",
       "\n",
       "    .dataframe tbody tr th {\n",
       "        vertical-align: top;\n",
       "    }\n",
       "\n",
       "    .dataframe thead th {\n",
       "        text-align: right;\n",
       "    }\n",
       "</style>\n",
       "<table border=\"1\" class=\"dataframe\">\n",
       "  <thead>\n",
       "    <tr style=\"text-align: right;\">\n",
       "      <th></th>\n",
       "      <th>userscore</th>\n",
       "    </tr>\n",
       "  </thead>\n",
       "  <tbody>\n",
       "    <tr>\n",
       "      <th>568</th>\n",
       "      <td>4.50</td>\n",
       "    </tr>\n",
       "    <tr>\n",
       "      <th>852</th>\n",
       "      <td>6.40</td>\n",
       "    </tr>\n",
       "    <tr>\n",
       "      <th>998</th>\n",
       "      <td>5.30</td>\n",
       "    </tr>\n",
       "    <tr>\n",
       "      <th>1604</th>\n",
       "      <td>7.80</td>\n",
       "    </tr>\n",
       "    <tr>\n",
       "      <th>2220</th>\n",
       "      <td>6.10</td>\n",
       "    </tr>\n",
       "    <tr>\n",
       "      <th>...</th>\n",
       "      <td>...</td>\n",
       "    </tr>\n",
       "    <tr>\n",
       "      <th>1731</th>\n",
       "      <td>7.50</td>\n",
       "    </tr>\n",
       "    <tr>\n",
       "      <th>763</th>\n",
       "      <td>6.90</td>\n",
       "    </tr>\n",
       "    <tr>\n",
       "      <th>835</th>\n",
       "      <td>6.34</td>\n",
       "    </tr>\n",
       "    <tr>\n",
       "      <th>1653</th>\n",
       "      <td>7.00</td>\n",
       "    </tr>\n",
       "    <tr>\n",
       "      <th>2607</th>\n",
       "      <td>8.20</td>\n",
       "    </tr>\n",
       "  </tbody>\n",
       "</table>\n",
       "<p>1978 rows × 1 columns</p>\n",
       "</div>"
      ],
      "text/plain": [
       "      userscore\n",
       "568        4.50\n",
       "852        6.40\n",
       "998        5.30\n",
       "1604       7.80\n",
       "2220       6.10\n",
       "...         ...\n",
       "1731       7.50\n",
       "763        6.90\n",
       "835        6.34\n",
       "1653       7.00\n",
       "2607       8.20\n",
       "\n",
       "[1978 rows x 1 columns]"
      ]
     },
     "execution_count": 93,
     "metadata": {},
     "output_type": "execute_result"
    }
   ],
   "source": [
    "scaler = StandardScaler()\n",
    "#data_features = df_game_t.drop(\"metascore\", axis = 1)\n",
    "data_features=pd.DataFrame(df_game_t[\"userscore\"])\n",
    "X_train, X_test, y_train, y_test = train_test_split(data_features, df_game_t['metascore'], random_state = 0)\n",
    "print(X_train.shape)\n",
    "pd.DataFrame(X_train)"
   ]
  },
  {
   "cell_type": "markdown",
   "id": "6a67c2cd",
   "metadata": {},
   "source": [
    "로지스틱 회귀모델 적용 "
   ]
  },
  {
   "cell_type": "code",
   "execution_count": 94,
   "id": "748951e3",
   "metadata": {},
   "outputs": [
    {
     "name": "stdout",
     "output_type": "stream",
     "text": [
      "테스트 점수 : 0.29\n"
     ]
    }
   ],
   "source": [
    "logreg =LinearRegression(fit_intercept=True, normalize=True)\n",
    "logreg.fit(X_train, y_train)\n",
    "print(\"테스트 점수 : {:.2f}\".format(logreg.score(X_test, y_test)))"
   ]
  },
  {
   "cell_type": "markdown",
   "id": "cab99b81",
   "metadata": {},
   "source": [
    "상관계수 조사"
   ]
  },
  {
   "cell_type": "code",
   "execution_count": 54,
   "id": "37eb0bf5",
   "metadata": {},
   "outputs": [
    {
     "name": "stdout",
     "output_type": "stream",
     "text": [
      "correl: 0.52\n",
      "pval: 0.0000\n"
     ]
    }
   ],
   "source": [
    "import scipy.stats as stats\n",
    "U=df_game_t['userscore'].values\n",
    "M=df_game_t['metascore'].values\n",
    "print(\"correl: {:.2f}\".format(stats.pearsonr(U,M)[0]))\n",
    "print(\"pval: {:.4f}\".format(stats.pearsonr(U,M)[1]))"
   ]
  },
  {
   "cell_type": "code",
   "execution_count": 95,
   "id": "89771f5b",
   "metadata": {},
   "outputs": [
    {
     "data": {
      "image/png": "[encoded data removed]",
      "text/plain": [
       "<Figure size 432x288 with 1 Axes>"
      ]
     },
     "metadata": {
      "needs_background": "light"
     },
     "output_type": "display_data"
    }
   ],
   "source": [
    "import matplotlib.pyplot as plt\n",
    "\n",
    "y_predict = logreg.predict(X_test)\n",
    "plt.scatter(y_test, y_predict, alpha=0.4)\n",
    "plt.xlabel(\"Actual score\")\n",
    "plt.ylabel(\"Predicted score\")\n",
    "plt.title(\"MULTIPLE LINEAR REGRESSION\")\n",
    "plt.show()"
   ]
  },
  {
   "cell_type": "code",
   "execution_count": null,
   "id": "d22f3c8e",
   "metadata": {},
   "outputs": [],
   "source": []
  }
 ],
 "metadata": {
  "kernelspec": {
   "display_name": "Python 3 (ipykernel)",
   "language": "python",
   "name": "python3"
  },
  "language_info": {
   "codemirror_mode": {
    "name": "ipython",
    "version": 3
   },
   "file_extension": ".py",
   "mimetype": "text/x-python",
   "name": "python",
   "nbconvert_exporter": "python",
   "pygments_lexer": "ipython3",
   "version": "3.7.11"
  }
 },
 "nbformat": 4,
 "nbformat_minor": 5
}
