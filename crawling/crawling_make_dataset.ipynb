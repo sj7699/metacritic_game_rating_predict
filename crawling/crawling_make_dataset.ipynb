{
 "cells": [
  {
   "cell_type": "markdown",
   "id": "e78e1ef8",
   "metadata": {},
   "source": [
    "https://www.metacritic.com/game 에서 크롤링 예정"
   ]
  },
  {
   "cell_type": "code",
   "execution_count": 29,
   "id": "53e00973",
   "metadata": {},
   "outputs": [],
   "source": [
    "import re\n",
    "import requests\n",
    "import pandas as pd\n",
    "from bs4 import BeautifulSoup"
   ]
  },
  {
   "cell_type": "markdown",
   "id": "0c9f86da",
   "metadata": {},
   "source": [
    "헤더부분 유저에이전트,레퍼러 예제"
   ]
  },
  {
   "cell_type": "code",
   "execution_count": 30,
   "id": "93b44fb6",
   "metadata": {},
   "outputs": [
    {
     "name": "stdout",
     "output_type": "stream",
     "text": [
      "A New World Created By Hidetaka Miyazaki And George R. R. Martin. ELDEN RING, developed by FromSoftware, Inc. and BANDAI NAMCO Entertainment Inc., is a fantasy action-RPG adventure set within a world created by Hidetaka Miyazaki creator of the influential DARK SOULS video game series; and George R.R. Martin author of The New York Times best-selling fantasy series, A Song of Ice and Fire. Danger and discovery lurk around every corner in FromSoftware's largest game to-date.  Hidetaka Miyazaki, President and Game Director of FromSoftware Inc. Known for directing critically-acclaimed games in beloved franchises including Armored Core, Dark Souls, and Sekiro: Shadows Die Twice.  George R.R. Martin is the #1 New York Times bestselling author of many novels, including the acclaimed series A Song of Ice and Fire - A Game of Thrones, A Clash of Kings, A Storm of Swords, A Feast For Crows, and A Dance with Dragons. As a writer-producer, he has worked on The Twilight Zone, Beauty and the Beast, and various feature films and pilots that were never made.\n"
     ]
    }
   ],
   "source": [
    "hur={'User-Agent':'Mozilla','referer':'https://www.metacritic.com/game/playstation-5/elden-ring'}\n",
    "url='https://www.metacritic.com/game/playstation-5/elden-ring'\n",
    "req=requests.get(url,headers=hur)\n",
    "bsoup=BeautifulSoup(req.content,'html.parser',from_encoding='utf-8') #beautifulsoup객체선언\n",
    "q1=bsoup.find(\"div\",{\"class\":\"details main_details\"})\n",
    "temp=bsoup.find(\"span\",{\"class\":\"blurb blurb_expanded\"}).text\n",
    "print(temp)"
   ]
  },
  {
   "cell_type": "markdown",
   "id": "33238ee1",
   "metadata": {},
   "source": [
    "정해진 플랫폼에 따라 크롤링하는 함수"
   ]
  },
  {
   "cell_type": "code",
   "execution_count": null,
   "id": "581c5919",
   "metadata": {},
   "outputs": [
    {
     "name": "stdout",
     "output_type": "stream",
     "text": [
      "Red Dead Redemption 2   97   8.6\n",
      "Grand Theft Auto V   97   8.3\n",
      "Persona 5 Royal   95   8.5\n",
      "The Last of Us Remastered   95   9.2\n",
      "God of War   94   9.1\n",
      "XCOM 2: War of the Chosen   93   6.8\n",
      "The Last of Us Part II   93   5.7\n",
      "Persona 5   93   8.7\n",
      "Metal Gear Solid V: The Phantom Pain   93   8.2\n",
      "Uncharted 4: A Thief's End   93   8.8\n",
      "Journey   92   8.3\n",
      "Bloodborne   92   8.9\n",
      "Undertale   92   7.2\n",
      "The Witcher 3: Wild Hunt   92   9.2\n",
      "Divinity: Original Sin II - Definitive Edition   92   7.9\n",
      "Final Fantasy XIV: Shadowbringers   91   8.4\n",
      "Shadow of the Colossus   91   7.8\n",
      "The Witcher 3: Wild Hunt - Blood and Wine   91   9.1\n",
      "Celeste   91   7.6\n",
      "bemtaNone\n",
      "INSIDE   91   8.4\n",
      "NieR: Automata - Game of the YoRHa Edition   91   8.7\n",
      "Resident Evil 2   91   8.9\n",
      "flower   91   7.2\n",
      "Dragon Quest XI S: Echoes of an Elusive Age - Definitive Edition   91   8.0\n",
      "Diablo III: Ultimate Evil Edition   90   7.8\n",
      "Overwatch   90   6.4\n",
      "Shovel Knight   90   7.7\n",
      "Rayman Legends   90   8.4\n",
      "Mortal Kombat 11 Ultimate   90   6.4\n",
      "Fez   90   6.4\n",
      "Monster Hunter: World   90   7.7\n",
      "Tales From The Borderlands: Episode 5 - The Vault of the Traveler   90   7.9\n",
      "The Witcher 3: Wild Hunt - Hearts of Stone   90   8.9\n",
      "Sekiro: Shadows Die Twice   90   8.4\n",
      "Astro Bot: Rescue Mission   90   9.0\n",
      "Monster Hunter: World - Iceborne   89   8.4\n",
      "Rez Infinite   89   7.5\n",
      "Mega Man X Legacy Collection   89   8.5\n"
     ]
    }
   ],
   "source": [
    "def crawl_page(url):\n",
    "    ret=[]\n",
    "    chk=True\n",
    "    while(chk):\n",
    "        req=requests.get(url,headers={'User-Agent':'Mozilla/5.0 (Windows NT 6.3; Win64; x64) AppleWebKit/537.36 (KHTML, like Gecko) Chrome/63.0.3239.132 Safari/537.36','referer':url}) \n",
    "        if(req==None): \n",
    "            print(\"reqNone\")\n",
    "            continue\n",
    "        bsoup=BeautifulSoup(req.text,'lxml')\n",
    "        if(bsoup==None):\n",
    "            print(\"bsoupNone\")\n",
    "            continue\n",
    "        bmetascore=bsoup.find(\"span\",{\"itemprop\":\"ratingValue\"})\n",
    "        if(bmetascore==None):\n",
    "            print(\"bemtaNone\")\n",
    "            continue\n",
    "        btitle=bsoup.find(\"div\",{\"class\":\"product_title\"}).find(\"h1\")\n",
    "        if(btitle==None): \n",
    "            print(\"btitleNone\")\n",
    "            continue\n",
    "        buserscore=bsoup.find(\"div\",class_=re.compile(\"metascore_w user medium game\"))\n",
    "        if(buserscore==None): \n",
    "            print(bsoup)\n",
    "            print(\"buserNone\")\n",
    "            continue\n",
    "        print(btitle.string,\" \",bmetascore.string,\" \",buserscore.string)\n",
    "        chk=False\n",
    "    \n",
    "def get_page(url):\n",
    "    req=requests.get(url,headers={'User-Agent':'Mozilla','referer':url})  \n",
    "    bsoup=BeautifulSoup(req.content,'html.parser',from_encoding='utf-8')\n",
    "    bsoup2=bsoup.find_all(\"td\",{\"class\":\"clamp-summary-wrap\"})\n",
    "    lpd=[]\n",
    "    for x in bsoup2:\n",
    "        y=x.find(\"a\")[\"href\"]\n",
    "        crawl_page(\"https://www.metacritic.com/\"+y)\n",
    "def crawl_direct(platform,df):\n",
    "    url=\"https://www.metacritic.com/browse/games/release-date/available/\"+platform+\"/metascore?page=\"\n",
    "    req=requests.get(url,headers={'User-Agent':'Mozilla','referer':url+'0'})\n",
    "    bsoup=BeautifulSoup(req.content,'html.parser',from_encoding='utf-8')\n",
    "    lpage_soup=bsoup.find(\"li\",{\"class\":\"last_page\"})\n",
    "    lpage2_soup=lpage_soup.find(\"a\",{\"class\":\"page_num\"})\n",
    "    lpagenum=lpage2_soup.text\n",
    "    for x in range(0,int(lpagenum)):\n",
    "        page=get_page(url+str(x))\n",
    "crawl_direct('ps4',1)"
   ]
  },
  {
   "cell_type": "code",
   "execution_count": null,
   "id": "7b0f302e",
   "metadata": {},
   "outputs": [],
   "source": []
  },
  {
   "cell_type": "code",
   "execution_count": null,
   "id": "eea2cbb4",
   "metadata": {},
   "outputs": [],
   "source": []
  }
 ],
 "metadata": {
  "kernelspec": {
   "display_name": "Python 3 (ipykernel)",
   "language": "python",
   "name": "python3"
  },
  "language_info": {
   "codemirror_mode": {
    "name": "ipython",
    "version": 3
   },
   "file_extension": ".py",
   "mimetype": "text/x-python",
   "name": "python",
   "nbconvert_exporter": "python",
   "pygments_lexer": "ipython3",
   "version": "3.7.11"
  }
 },
 "nbformat": 4,
 "nbformat_minor": 5
}
