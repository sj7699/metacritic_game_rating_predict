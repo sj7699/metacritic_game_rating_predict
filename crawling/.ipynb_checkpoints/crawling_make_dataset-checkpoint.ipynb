{
 "cells": [
  {
   "cell_type": "markdown",
   "id": "e78e1ef8",
   "metadata": {},
   "source": [
    "https://www.metacritic.com/game 에서 크롤링 예정"
   ]
  },
  {
   "cell_type": "code",
   "execution_count": 1,
   "id": "53e00973",
   "metadata": {},
   "outputs": [],
   "source": [
    "import re\n",
    "import requests\n",
    "import pandas as pd\n",
    "import time\n",
    "from bs4 import BeautifulSoup"
   ]
  },
  {
   "cell_type": "markdown",
   "id": "0c9f86da",
   "metadata": {},
   "source": [
    "헤더부분 유저에이전트,레퍼러 예제"
   ]
  },
  {
   "cell_type": "code",
   "execution_count": 2,
   "id": "93b44fb6",
   "metadata": {},
   "outputs": [
    {
     "name": "stdout",
     "output_type": "stream",
     "text": [
      "A New World Created By Hidetaka Miyazaki And George R. R. Martin. ELDEN RING, developed by FromSoftware, Inc. and BANDAI NAMCO Entertainment Inc., is a fantasy action-RPG adventure set within a world created by Hidetaka Miyazaki creator of the influential DARK SOULS video game series; and George R.R. Martin author of The New York Times best-selling fantasy series, A Song of Ice and Fire. Danger and discovery lurk around every corner in FromSoftware's largest game to-date.  Hidetaka Miyazaki, President and Game Director of FromSoftware Inc. Known for directing critically-acclaimed games in beloved franchises including Armored Core, Dark Souls, and Sekiro: Shadows Die Twice.  George R.R. Martin is the #1 New York Times bestselling author of many novels, including the acclaimed series A Song of Ice and Fire - A Game of Thrones, A Clash of Kings, A Storm of Swords, A Feast For Crows, and A Dance with Dragons. As a writer-producer, he has worked on The Twilight Zone, Beauty and the Beast, and various feature films and pilots that were never made.\n"
     ]
    }
   ],
   "source": [
    "hur={'User-Agent':'Mozilla','referer':'https://www.metacritic.com/game/playstation-5/elden-ring'}\n",
    "url='https://www.metacritic.com/game/playstation-5/elden-ring'\n",
    "req=requests.get(url,headers=hur)\n",
    "bsoup=BeautifulSoup(req.content,'html.parser',from_encoding='utf-8') #beautifulsoup객체선언\n",
    "q1=bsoup.find(\"div\",{\"class\":\"details main_details\"})\n",
    "temp=bsoup.find(\"span\",{\"class\":\"blurb blurb_expanded\"}).text\n",
    "print(temp)"
   ]
  },
  {
   "cell_type": "markdown",
   "id": "e45f978d",
   "metadata": {},
   "source": [
    "이전까지 크롤링했던 진도부터 하기"
   ]
  },
  {
   "cell_type": "markdown",
   "id": "33238ee1",
   "metadata": {},
   "source": [
    "정해진 플랫폼에 따라 크롤링하는 함수"
   ]
  },
  {
   "cell_type": "code",
   "execution_count": null,
   "id": "5150244f",
   "metadata": {},
   "outputs": [
    {
     "name": "stdout",
     "output_type": "stream",
     "text": [
      "https://www.metacritic.com/browse/games/release-date/available/ps5/metascore?page=1\n",
      "https://www.metacritic.com//game/playstation-5/back-4-blood\n",
      "Back 4 Blood   Oct  7, 2021   77   5.4   Warner Bros. Games   Turtle Rock Studios   Action|Shooter|First-Person|Arcade|   M\n",
      "https://www.metacritic.com//game/playstation-5/nobody-saves-the-world\n",
      "Nobody Saves the World   Apr 14, 2022   77   6.0   DrinkBox Studios   DrinkBox Studios   Role-Playing|Action RPG|   T\n",
      "https://www.metacritic.com//game/playstation-5/cyber-shadow\n"
     ]
    }
   ],
   "source": [
    "def crawl_page(url):\n",
    "    ret={}\n",
    "    chk=True\n",
    "    print(url)\n",
    "    cnt=0\n",
    "    while(chk):\n",
    "        req=requests.get(url,headers={'User-Agent':'Mozilla/5.0 (Windows NT 6.3; Win64; x64) AppleWebKit/537.36 (KHTML, like Gecko) Chrome/63.0.3239.132 Safari/537.36','referer':url}) \n",
    "        time.sleep(2.1)#크롤링 속도 제한\n",
    "        if(req==None): \n",
    "            print(\"reqNone\")\n",
    "            continue\n",
    "        bsoup=BeautifulSoup(req.text,'lxml')\n",
    "        if(bsoup==None):\n",
    "            print(\"bsoupNone\")\n",
    "            continue\n",
    "        bmetascore=bsoup.find(\"span\",{\"itemprop\":\"ratingValue\"})\n",
    "        if(bmetascore==None):\n",
    "            time.sleep(4)\n",
    "            print(\"bemtaNone\")\n",
    "            cnt+=1;\n",
    "            if(cnt>=5):\n",
    "                cnt=0;\n",
    "                return False;\n",
    "            continue\n",
    "        bsummary=bsoup.find(\"span\",class_=\"blurb blurb_expanded\")\n",
    "        if(bsummary==None):\n",
    "            print(\"bsumm\")\n",
    "            bsummary=\"None\"\n",
    "        else:\n",
    "            if(bsummary.string==None):\n",
    "                bsummary=bsoup.find(\"span\",class_=\"blurb blurb_collapsed\")\n",
    "                if(bsummary.string!=None):\n",
    "                    bsummary=bsummary.string\n",
    "                if(bsummary.string!=None):\n",
    "                    bsummary=bsummary.string\n",
    "            else:\n",
    "                bsummary=bsummary.string\n",
    "        btitle=bsoup.find(\"div\",{\"class\":\"product_title\"}).find(\"h1\")\n",
    "        if(btitle==None): \n",
    "            print(\"btitleNone\")\n",
    "            continue\n",
    "        buserscore=bsoup.find(\"div\",class_=re.compile(\"metascore_w user large game\"))\n",
    "        if(buserscore==None): \n",
    "            print(\"buserNone\")\n",
    "            buserscore=\"None\"\n",
    "        else:\n",
    "            buserscore=buserscore.string\n",
    "        bpub=bsoup.find(\"li\",class_=\"summary_detail publisher\").find(\"a\")\n",
    "        if(bpub==None):\n",
    "            print(\"bpubNone\")\n",
    "            continue\n",
    "        bdev=(bsoup.find(\"li\",class_=\"summary_detail developer\"))\n",
    "        if(bdev==None):\n",
    "            bdev=\"None\"\n",
    "            print(\"bdevNone\")\n",
    "        else:\n",
    "            bdev=bdev.find(\"a\")\n",
    "            bdev=bdev.string\n",
    "        bgenres=(bsoup.find(\"li\",class_=\"summary_detail product_genre\"))\n",
    "        if(bgenres==None):\n",
    "            print(\"bgenreNone\")\n",
    "            continue\n",
    "        bgenres=bgenres.find_all(\"span\",class_=\"data\")\n",
    "        sgenres=\"\"\n",
    "        for x in range(len(bgenres)):\n",
    "            sgenres=sgenres+str(bgenres[x].string)+\"|\"\n",
    "        bgrating=bsoup.find(\"li\",class_=\"summary_detail product_rating\")\n",
    "        if(bgrating==None):\n",
    "            print(\"bgratingNone\")\n",
    "            bgrating=\"None\"\n",
    "        else:\n",
    "            bgrating=bgrating.find(\"span\",class_=\"data\").string\n",
    "        brelease=bsoup.find(\"li\",class_=\"summary_detail release_data\")\n",
    "        brelease=brelease.find(\"span\",class_=\"data\")\n",
    "        print(str(btitle.string),\" \",str(brelease.string),\" \",str(bmetascore.string),\" \",str(buserscore),\" \",str(bpub.string)[57:-53],\" \",str(bdev),\" \",sgenres,\" \",bgrating)\n",
    "        ret={\"title\":str(btitle.string),\"metascore\":str(bmetascore.string),\"userscore\":str(buserscore),\"publisher\":str(bpub.string)[57:-53],\"developer\":str(bdev),\"genres\":sgenres,\"rating\":str(bgrating),\"summary\":str(bsummary),\"release_date\":str(brelease.string)}\n",
    "        chk=False\n",
    "    return ret\n",
    "    \n",
    "def get_page(url):\n",
    "    req=requests.get(url,headers={'User-Agent':'Mozilla','referer':url})  \n",
    "    bsoup=BeautifulSoup(req.content,'html.parser',from_encoding='utf-8')\n",
    "    bsoup2=bsoup.find_all(\"td\",{\"class\":\"clamp-summary-wrap\"})\n",
    "    lpd=pd.DataFrame(columns={\"title\",\"release_date\",\"publisher\",\"developer\",\"genres\",\"rating\",\"summary\",\"metascore\",\"userscore\"})\n",
    "    for x in bsoup2:\n",
    "        y=x.find(\"a\")[\"href\"]\n",
    "        y=y[:-15]\n",
    "        h=crawl_page(\"https://www.metacritic.com/\"+y)\n",
    "        if(h==False):\n",
    "            continue\n",
    "        df_dic=pd.DataFrame([h])\n",
    "        lpd = pd.concat([lpd, df_dic], ignore_index=True)\n",
    "    return lpd\n",
    "        \n",
    "def crawl_direct(platform,df):\n",
    "    url=\"https://www.metacritic.com/browse/games/release-date/available/\"+platform+\"/metascore?page=\"\n",
    "    req=requests.get(url,headers={'User-Agent':'Mozilla','referer':url+'0'})\n",
    "    bsoup=BeautifulSoup(req.content,'html.parser',from_encoding='utf-8')\n",
    "    lpage_soup=bsoup.find(\"li\",{\"class\":\"last_page\"})\n",
    "    lpage2_soup=lpage_soup.find(\"a\",{\"class\":\"page_num\"})\n",
    "    lpagenum=lpage2_soup.text\n",
    "    try:\n",
    "        lpd=pd.read_csv(platform+'.csv')\n",
    "    except:\n",
    "        lpd=pd.DataFrame(columns={\"title\",\"release_date\",\"publisher\",\"developer\",\"genres\",\"rating\",\"summary\",\"metascore\",\"userscore\"})\n",
    "    f=open(platform+\"_proc.txt\",\"r\")\n",
    "    proc=int(f.readline())\n",
    "    f.close()\n",
    "    for x in range(proc,int(lpagenum)):  \n",
    "        print(url+str(x))\n",
    "        page=get_page(url+str(x))\n",
    "        lpd=pd.concat([page,lpd],ignore_index=True)\n",
    "        lpd.to_csv(platform+'.csv',sep=',',na_rep='NaN',float_format = '%.2f',index = False)\n",
    "        f=open(platform+\"_proc.txt\",\"w\")\n",
    "        f.write(str(x+1))\n",
    "        f.close()\n",
    "        print(len(lpd))\n",
    "crawl_direct('ps4',1)\n",
    "crawl_direct('ps5',1)"
   ]
  },
  {
   "cell_type": "code",
   "execution_count": null,
   "id": "eea2cbb4",
   "metadata": {},
   "outputs": [],
   "source": []
  },
  {
   "cell_type": "code",
   "execution_count": null,
   "id": "1b7d7e9b",
   "metadata": {},
   "outputs": [],
   "source": []
  }
 ],
 "metadata": {
  "kernelspec": {
   "display_name": "Python 3 (ipykernel)",
   "language": "python",
   "name": "python3"
  },
  "language_info": {
   "codemirror_mode": {
    "name": "ipython",
    "version": 3
   },
   "file_extension": ".py",
   "mimetype": "text/x-python",
   "name": "python",
   "nbconvert_exporter": "python",
   "pygments_lexer": "ipython3",
   "version": "3.7.11"
  }
 },
 "nbformat": 4,
 "nbformat_minor": 5
}
