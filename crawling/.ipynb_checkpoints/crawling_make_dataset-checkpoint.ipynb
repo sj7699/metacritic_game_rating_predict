{
 "cells": [
  {
   "cell_type": "markdown",
   "id": "e78e1ef8",
   "metadata": {},
   "source": [
    "https://www.metacritic.com/game 에서 크롤링 예정"
   ]
  },
  {
   "cell_type": "code",
   "execution_count": 1,
   "id": "53e00973",
   "metadata": {},
   "outputs": [],
   "source": [
    "import re\n",
    "import requests\n",
    "import pandas as pd\n",
    "import time\n",
    "from bs4 import BeautifulSoup"
   ]
  },
  {
   "cell_type": "markdown",
   "id": "0c9f86da",
   "metadata": {},
   "source": [
    "헤더부분 유저에이전트,레퍼러 예제"
   ]
  },
  {
   "cell_type": "code",
   "execution_count": 2,
   "id": "93b44fb6",
   "metadata": {},
   "outputs": [
    {
     "name": "stdout",
     "output_type": "stream",
     "text": [
      "A New World Created By Hidetaka Miyazaki And George R. R. Martin. ELDEN RING, developed by FromSoftware, Inc. and BANDAI NAMCO Entertainment Inc., is a fantasy action-RPG adventure set within a world created by Hidetaka Miyazaki creator of the influential DARK SOULS video game series; and George R.R. Martin author of The New York Times best-selling fantasy series, A Song of Ice and Fire. Danger and discovery lurk around every corner in FromSoftware's largest game to-date.  Hidetaka Miyazaki, President and Game Director of FromSoftware Inc. Known for directing critically-acclaimed games in beloved franchises including Armored Core, Dark Souls, and Sekiro: Shadows Die Twice.  George R.R. Martin is the #1 New York Times bestselling author of many novels, including the acclaimed series A Song of Ice and Fire - A Game of Thrones, A Clash of Kings, A Storm of Swords, A Feast For Crows, and A Dance with Dragons. As a writer-producer, he has worked on The Twilight Zone, Beauty and the Beast, and various feature films and pilots that were never made.\n"
     ]
    }
   ],
   "source": [
    "hur={'User-Agent':'Mozilla','referer':'https://www.metacritic.com/game/playstation-5/elden-ring'}\n",
    "url='https://www.metacritic.com/game/playstation-5/elden-ring'\n",
    "req=requests.get(url,headers=hur)\n",
    "bsoup=BeautifulSoup(req.content,'html.parser',from_encoding='utf-8') #beautifulsoup객체선언\n",
    "q1=bsoup.find(\"div\",{\"class\":\"details main_details\"})\n",
    "temp=bsoup.find(\"span\",{\"class\":\"blurb blurb_expanded\"}).text\n",
    "print(temp)"
   ]
  },
  {
   "cell_type": "markdown",
   "id": "e45f978d",
   "metadata": {},
   "source": [
    "이전까지 크롤링했던 진도부터 하기"
   ]
  },
  {
   "cell_type": "markdown",
   "id": "33238ee1",
   "metadata": {},
   "source": [
    "정해진 플랫폼에 따라 크롤링하는 함수"
   ]
  },
  {
   "cell_type": "code",
   "execution_count": null,
   "id": "5150244f",
   "metadata": {},
   "outputs": [
    {
     "name": "stdout",
     "output_type": "stream",
     "text": [
      "https://www.metacritic.com/browse/games/release-date/available/ps4/metascore?page=1\n",
      "https://www.metacritic.com//game/playstation-4/spelunky-2\n",
      "Cenários e gameplay repleto de segredos, física aprimorada, novos caminho, música bem trabalhada, level design procedural de encher os olhos. Uma run nunca será igual a outra, te obrigando a melhorar como jogador. Pra quem busca um desafio, aqui está!\n",
      "Spelunky 2   Sep 15, 2020   87   7.8   Mossmouth   Mossmouth   Action|Platformer|2D|   T\n",
      "https://www.metacritic.com//game/playstation-4/fallout-4\n",
      "Even decades after Bethesda started making games, there are still only a handful of RPGs that have ever offered anywhere CLOSE to the amount\n",
      "Fallout 4   Nov 10, 2015   87   6.8   Bethesda Softworks   Bethesda Game Studios   General|Role-Playing|Western-Style|   M\n",
      "https://www.metacritic.com//game/playstation-4/uncharted-the-nathan-drake-collection\n",
      "From the storytellers at Naughty Dog, comes the epic that altered adventure storytelling, rebuilt by Bluepoint Games with the power of the PS4 system. Follow the harrowing journey of Nathan Drake across the globe, from humble beginnings to incredible discoveries. Meet a unique cast of\n",
      "Uncharted: The Nathan Drake Collection   Oct  9, 2015   86   8.6   SCEA   Bluepoint Games   Miscellaneous|Action Adventure|General|Compilation|   T\n",
      "https://www.metacritic.com//game/playstation-4/tales-from-the-borderlands-a-telltale-game-series\n",
      "Like all good tales, there’s more than one side to a story. Especially one about a Vault key, the Hyperion Corporation, bandits, loot, gangsters, Vault Hunters, secret Atlas tech, explosions, getaways, extortion, betrayal, and mayhem. Set after the events seen in Borderlands 2, Tales from the Borderlands is about Rhys, a Hyperion company man looking to become the next Handsome Jack, and it’s also about Fiona, a Pandoran con artist out to score the biggest of all swindles. Lured into danger by a Vault key and all it promises, the unlikely duo are thrown together with a common goal and a huge amount of mistrust. Who is telling the truth, and why is it important That’s up to you to decide. You are Rhys…and you are also Fiona, because like every tale worth telling, there are two…oh, you read that part already? Well, it’s important to remember that there *are* two sides to every story, and you my friend, you will tell this tale, or…tales, through the choices that you make. Your every decision as both Rhys and Fiona will affect the people and world around you: this is a game where YOU are the final author in a brand new Borderlands story set on the unforgiving world of Pandora. [TellTale Games]\n",
      "Tales from the Borderlands: A Telltale Game Series   Oct 20, 2015   86   8.2   Take-Two Interactive   Telltale Games   Adventure|General|   M\n",
      "https://www.metacritic.com//game/playstation-4/f1-2017\n",
      "Win the 2017 World Championship, break every record in the fastest ever F1 cars, and race some of the most iconic F1 cars of the last 30 years. The game sports an even deeper ten year Career, more varied gameplay in the new ‘Championships’ mode, and a host of other new features, both online and offline.\n",
      "F1 2017   Aug 25, 2017   86   7.5   Codemasters   Codemasters   Racing|Simulation|Automobile|   E\n",
      "https://www.metacritic.com//game/playstation-4/velocity-2x\n",
      "A well rounded, well designed shooter/platformer. It seamlessly integrates the mechanics in a way that encourages you to perfect your gameplay. The reviewer accusing the game if \"hand holding\" obviously hasn't played very far in to the game. It only explains things the first time you encounter a new mechanic. I don't know what they expect, it's pretty stupid not to expect a game to have some kind of tutorial. The art is great, the music is perfect and it's just an all around great game. Plus it's free if you have PS+. Anyone giving negative reviews just doesn't get good gaming.\n",
      "Velocity 2X   Sep  2, 2014   86   7.0   FuturLab   FuturLab   Action|General|Shooter|Scrolling|Shoot-'Em-Up|Top-Down|Vertical|   E10+\n",
      "https://www.metacritic.com//game/playstation-4/stardew-valley\n",
      "You've inherited your grandfather's old farm plot in Stardew Valley. Armed with hand-me-down tools and a few coins, you set out to begin your new life. Can you learn to live off the land and turn these overgrown fields into a thriving home? It won't be easy. Ever since Joja Corporation came to town, the old ways of life have all but disappeared. The community center, once the town's most vibrant hub of activity, now lies in shambles. But the valley seems full of opportunity. With a little dedication, you might just be the one to restore Stardew Valley to greatness.\n",
      "Stardew Valley   Dec 13, 2016   86   8.0   Chucklefish   Sickhead Games, LLC   Role-Playing|General|   E10+\n",
      "https://www.metacritic.com//game/playstation-4/blues-and-bullets---episode-1-the-end-of-peace\n",
      "Blues and Bullets is a noir adventure set in the ’20s, in a fictional American city called Santa Esperanza. A place where Eliot Ness, the former leader of the legendary Untouchables, wished to spend the rest of his days working in his diner after jailing Al Capone, not dwelling too much on the cesspit of corruption his city had degenerated into. [A Crowd of Monsters]\n",
      "bgratingNone\n",
      "Blues and Bullets - Episode 1: The End of Peace   Apr 19, 2016   86   5.9   A Crowd of Monsters   A Crowd of Monsters   Action Adventure|General|   None\n",
      "https://www.metacritic.com//game/playstation-4/olliolli-world\n",
      "OlliOlli World is a bold new skateboarding action-platformer that’s bursting with personality. Flip and flow through the vivid and vibrant world of Radlandia, meeting colorful characters as you grind, trick, and air your way to discover the mystical skate gods on your quest for Gnarvana.\n",
      "OlliOlli World   Feb  8, 2022   86   7.5   Private Division   roll7   Action|Platformer|2D|   E10+\n",
      "https://www.metacritic.com//game/playstation-4/f1-2020\n",
      "For the first time, players can create their own F1® team by creating a driver, then choosing a sponsor, an engine supplier, hiring a teammate and competing as the 11th team on the grid. Build facilities, develop the team over time and drive to the top. Customise your 10-year career mode,\n",
      "bgratingNone\n",
      "F1 2020   Jul  6, 2020   86   7.8   Codemasters   Codemasters   Racing|Simulation|Automobile|   None\n",
      "https://www.metacritic.com//game/playstation-4/dragon-quest-builders-2\n",
      "DRAGON QUEST BUILDERS 2 is a block-building role-playing game with a charming single player campaign and a robust multiplayer building mode that supports up to four players online. Create your customized character, team-up with your fearless friend Malroth, gather the skills required to become a full-fledged builder, and combat the Children of Hargon, a vile cult that worships destruction. Then, take your builder online and join your friends to collaborate and create something truly magnificent. Don’t let the name fool you, despite the 2, this is a completely standalone experience featuring new characters, an expansive world, unlimited building combinations, and a storyline that promises to satisfy longtime fans and newcomers alike. [Square Enix]\n",
      "Dragon Quest Builders 2   Jul 12, 2019   86   7.6   Square Enix   Omega Force   Role-Playing|General|Action Adventure|Sandbox|   E10+\n",
      "https://www.metacritic.com//game/playstation-4/steinsgate-elite\n",
      "STEINS;GATE ELITE is a remastered title with animated scenes from the anime, creating a brand-new, immersive experience. Follow a group of young, tech-savvy Lab Members who discover the means of changing the past by using e-mail and a modified microwave. Their experiment to push the boundaries of time spirals out of control as they become entangled in a conspiracy surrounding SERN, the organization behind the Large Hadron Collider, and John Titor, who claims to be from a dystopian future. \n",
      "Steins;Gate Elite   Feb 19, 2019   86   7.6   Spike Chunsoft   5pb   Action|Adventure|General|Visual Novel|   M\n",
      "https://www.metacritic.com//game/playstation-4/thimbleweed-park\n",
      "<br/>My only negative point is that some riddles</span>ng point and click adventure with great dialogues and an interesting ending.\n",
      "Thimbleweed Park   Aug 22, 2017   86   7.6   Terrible Toybox   Ron Gilbert and Gary Winnick   Adventure|Point-and-Click|   T\n",
      "https://www.metacritic.com//game/playstation-4/ni-no-kuni-wrath-of-the-white-witch-remastered\n"
     ]
    },
    {
     "name": "stdout",
     "output_type": "stream",
     "text": [
      "Ni no Kuni: Wrath of the White Witch Remastered = Journey back to the other world in Ni no Kuni: Wrath of the White Witch. LEVEL-5's classic tale returns better than ever. Join Oliver as he embarks on an adventure through a world inhabited by new friends and ferocious foes alike in the hopes\n",
      "Ni no Kuni: Wrath of the White Witch Remastered   Sep 20, 2019   86   8.2   Bandai Namco Games   Level 5   Role-Playing|Japanese-Style|   E10+\n",
      "https://www.metacritic.com//game/playstation-4/guilty-gear-xrd--revelator-\n",
      "Best fighting game in the market  so far. BUY IT NOW !!!!!!!!!!!!!!!!!!!!!!!!!!!!!!!!!!!!!!!!!!!!!!!!!!!!!!!!!!!!!!!!!!!!!!!!!!!!!!!!!!!!!!!!!!!!!!!!!!\n",
      "Guilty Gear Xrd -REVELATOR-   Jun  7, 2016   86   8.0   Aksys Games   Arc System Works   Action|Fighting|2D|   T\n",
      "https://www.metacritic.com//game/playstation-4/dying-light-the-following---enhanced-edition\n",
      "Enjoy the definitive Dying Light experience with the new Legend system, improved visuals, significant gameplay enhancements, and more. This package comes with all the available bonus content, including Dying Light: The Following – a story-based expansion that brings mysterious characters, deadly new weapons, unexpected quests, and fully customizable and drivable dirt buggies. [Techland]\n",
      "Dying Light: The Following - Enhanced Edition   Feb  9, 2016   86   8.4   Warner Bros. Interactive Entertainment   Techland   Action Adventure|Survival|   M\n",
      "https://www.metacritic.com//game/playstation-4/final-fantasy-xii-the-zodiac-age\n",
      "Enter an era of war within the world of Ivalice. The small kingdom of Dalmasca, conquered by the Archadian Empire, is left in ruin and uncertainty. Princess Ashe, the one and only heir to the throne, devotes herself to the resistance to liberate her country. Vaan, a young man who lost his\n",
      "Final Fantasy XII: The Zodiac Age   Jul 11, 2017   86   8.4   Square Enix   Square Enix   Role-Playing|Japanese-Style|   T\n",
      "https://www.metacritic.com//game/playstation-4/disco-elysium-the-final-cut\n",
      "Disco Elysium is about a detective who wakes up in a rundown coastal district with a banging headache and only a few dregs of memory left. You set out to discover what happened to him inside the unique world we have created. We’ve thrown together disco music, early motor carriages, and post-revolutionary angst for our setting, and brought it all to life with actual oil paintings.\n",
      "Disco Elysium: The Final Cut   Mar 30, 2021   86   8.0   ZA/UM   ZA/UM   Role-Playing|General|Western-Style|   M\n",
      "https://www.metacritic.com//game/playstation-4/fell-seal-arbiters-mark\n"
     ]
    }
   ],
   "source": [
    "def crawl_page(url):\n",
    "    ret={}\n",
    "    chk=True\n",
    "    print(url)\n",
    "    while(chk):\n",
    "        req=requests.get(url,headers={'User-Agent':'Mozilla/5.0 (Windows NT 6.3; Win64; x64) AppleWebKit/537.36 (KHTML, like Gecko) Chrome/63.0.3239.132 Safari/537.36','referer':url}) \n",
    "        if(req==None): \n",
    "            print(\"reqNone\")\n",
    "            continue\n",
    "        bsoup=BeautifulSoup(req.text,'lxml')\n",
    "        time.sleep(1.5)#크롤링 속도 제한\n",
    "        if(bsoup==None):\n",
    "            print(\"bsoupNone\")\n",
    "            continue\n",
    "        bmetascore=bsoup.find(\"span\",{\"itemprop\":\"ratingValue\"})\n",
    "        if(bmetascore==None):\n",
    "            time.sleep(4)\n",
    "            print(bsoup)\n",
    "            print(\"bemtaNone\")\n",
    "            continue\n",
    "        bsummary=bsoup.find(\"span\",class_=\"blurb blurb_expanded\")\n",
    "        if(bsummary==None):\n",
    "            print(\"bsumm\")\n",
    "            bsummary=\"None\"\n",
    "        else:\n",
    "            if(bsummary.string==None):\n",
    "                bsummary=bsoup.find(\"span\",class_=\"blurb blurb_collapsed\")\n",
    "                if(bsummary.string!=None):\n",
    "                    bsummary=bsummary.string\n",
    "                if(bsummary.string!=None):\n",
    "                    bsummary=bsummary.string\n",
    "            else:\n",
    "                bsummary=bsummary.string\n",
    "            print(bsummary)\n",
    "        btitle=bsoup.find(\"div\",{\"class\":\"product_title\"}).find(\"h1\")\n",
    "        if(btitle==None): \n",
    "            print(\"btitleNone\")\n",
    "            continue\n",
    "        buserscore=bsoup.find(\"div\",class_=re.compile(\"metascore_w user large game\"))\n",
    "        if(buserscore==None): \n",
    "            print(\"buserNone\")\n",
    "            continue\n",
    "        bpub=bsoup.find(\"li\",class_=\"summary_detail publisher\").find(\"a\")\n",
    "        if(bpub==None):\n",
    "            print(\"bpubNone\")\n",
    "            continue\n",
    "        bdev=(bsoup.find(\"li\",class_=\"summary_detail developer\"))\n",
    "        if(bdev==None):\n",
    "            print(\"bdevNone\")\n",
    "            continue\n",
    "        else:\n",
    "            bdev=bdev.find(\"a\")\n",
    "        bgenres=(bsoup.find(\"li\",class_=\"summary_detail product_genre\"))\n",
    "        if(bgenres==None):\n",
    "            print(\"bgenreNone\")\n",
    "            continue\n",
    "        bgenres=bgenres.find_all(\"span\",class_=\"data\")\n",
    "        sgenres=\"\"\n",
    "        for x in range(len(bgenres)):\n",
    "            sgenres=sgenres+str(bgenres[x].string)+\"|\"\n",
    "        bgrating=bsoup.find(\"li\",class_=\"summary_detail product_rating\")\n",
    "        if(bgrating==None):\n",
    "            print(\"bgratingNone\")\n",
    "            bgrating=\"None\"\n",
    "        else:\n",
    "            bgrating=bgrating.find(\"span\",class_=\"data\").string\n",
    "        brelease=bsoup.find(\"li\",class_=\"summary_detail release_data\")\n",
    "        brelease=brelease.find(\"span\",class_=\"data\")\n",
    "        print(str(btitle.string),\" \",str(brelease.string),\" \",str(bmetascore.string),\" \",str(buserscore.string),\" \",str(bpub.string)[57:-53],\" \",str(bdev.string),\" \",sgenres,\" \",bgrating)\n",
    "        ret={\"title\":str(btitle.string),\"metascore\":str(bmetascore.string),\"userscore\":str(buserscore.string),\"publisher\":str(bpub.string)[57:-53],\"developer\":str(bdev.string),\"genres\":sgenres,\"rating\":str(bgrating),\"summary\":str(bsummary),\"release_date\":str(brelease.string)}\n",
    "        chk=False\n",
    "    return ret\n",
    "    \n",
    "def get_page(url):\n",
    "    req=requests.get(url,headers={'User-Agent':'Mozilla','referer':url})  \n",
    "    bsoup=BeautifulSoup(req.content,'html.parser',from_encoding='utf-8')\n",
    "    bsoup2=bsoup.find_all(\"td\",{\"class\":\"clamp-summary-wrap\"})\n",
    "    lpd=pd.DataFrame(columns={\"title\",\"release_date\",\"publisher\",\"developer\",\"genres\",\"rating\",\"summary\",\"metascore\",\"userscore\"})\n",
    "    cnt=0\n",
    "    for x in bsoup2:\n",
    "        y=x.find(\"a\")[\"href\"]\n",
    "        y=y[:-15]\n",
    "        df_dic=pd.DataFrame([crawl_page(\"https://www.metacritic.com/\"+y)])\n",
    "        lpd = pd.concat([lpd, df_dic], ignore_index=True)\n",
    "    return lpd\n",
    "        \n",
    "def crawl_direct(platform,df):\n",
    "    url=\"https://www.metacritic.com/browse/games/release-date/available/\"+platform+\"/metascore?page=\"\n",
    "    req=requests.get(url,headers={'User-Agent':'Mozilla','referer':url+'0'})\n",
    "    bsoup=BeautifulSoup(req.content,'html.parser',from_encoding='utf-8')\n",
    "    lpage_soup=bsoup.find(\"li\",{\"class\":\"last_page\"})\n",
    "    lpage2_soup=lpage_soup.find(\"a\",{\"class\":\"page_num\"})\n",
    "    lpagenum=lpage2_soup.text\n",
    "    try:\n",
    "      lpd=pd.read_csv(platform+'.csv')\n",
    "    except:\n",
    "        lpd=pd.DataFrame(columns={\"title\",\"release_date\",\"publisher\",\"developer\",\"genres\",\"rating\",\"summary\",\"metascore\",\"userscore\"})\n",
    "    proc=int(len(lpd)/100)\n",
    "    for x in range(proc,int(lpagenum)):  \n",
    "        print(url+str(x))\n",
    "        page=get_page(url+str(x))\n",
    "        page=pd.concat([page,lpd],ignore_index=True)\n",
    "        page.to_csv(platform+'.csv',sep=',',na_rep='NaN',float_format = '%.2f',index = False)\n",
    "crawl_direct('ps4',1)"
   ]
  },
  {
   "cell_type": "code",
   "execution_count": null,
   "id": "eea2cbb4",
   "metadata": {},
   "outputs": [],
   "source": []
  },
  {
   "cell_type": "code",
   "execution_count": null,
   "id": "1b7d7e9b",
   "metadata": {},
   "outputs": [],
   "source": []
  }
 ],
 "metadata": {
  "kernelspec": {
   "display_name": "Python 3 (ipykernel)",
   "language": "python",
   "name": "python3"
  },
  "language_info": {
   "codemirror_mode": {
    "name": "ipython",
    "version": 3
   },
   "file_extension": ".py",
   "mimetype": "text/x-python",
   "name": "python",
   "nbconvert_exporter": "python",
   "pygments_lexer": "ipython3",
   "version": "3.7.11"
  }
 },
 "nbformat": 4,
 "nbformat_minor": 5
}
