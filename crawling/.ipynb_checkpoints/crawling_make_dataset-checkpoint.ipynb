{
 "cells": [
  {
   "cell_type": "markdown",
   "id": "e78e1ef8",
   "metadata": {},
   "source": [
    "https://www.metacritic.com/game 에서 크롤링 예정"
   ]
  },
  {
   "cell_type": "code",
   "execution_count": 8,
   "id": "53e00973",
   "metadata": {},
   "outputs": [],
   "source": [
    "import requests\n",
    "from bs4 import BeautifulSoup"
   ]
  },
  {
   "cell_type": "markdown",
   "id": "0c9f86da",
   "metadata": {},
   "source": [
    "헤더부분 유저에이전트,레퍼러 예제"
   ]
  },
  {
   "cell_type": "code",
   "execution_count": 19,
   "id": "93b44fb6",
   "metadata": {},
   "outputs": [
    {
     "name": "stdout",
     "output_type": "stream",
     "text": [
      "A New World Created By Hidetaka Miyazaki And George R. R. Martin. ELDEN RING, developed by FromSoftware, Inc. and BANDAI NAMCO Entertainment Inc., is a fantasy action-RPG adventure set within a world created by Hidetaka Miyazaki creator of the influential DARK SOULS video game series; and George R.R. Martin author of The New York Times best-selling fantasy series, A Song of Ice and Fire. Danger and discovery lurk around every corner in FromSoftware's largest game to-date.  Hidetaka Miyazaki, President and Game Director of FromSoftware Inc. Known for directing critically-acclaimed games in beloved franchises including Armored Core, Dark Souls, and Sekiro: Shadows Die Twice.  George R.R. Martin is the #1 New York Times bestselling author of many novels, including the acclaimed series A Song of Ice and Fire - A Game of Thrones, A Clash of Kings, A Storm of Swords, A Feast For Crows, and A Dance with Dragons. As a writer-producer, he has worked on The Twilight Zone, Beauty and the Beast, and various feature films and pilots that were never made.\n"
     ]
    }
   ],
   "source": [
    "hur={'User-Agent':'Mozilla','referer':'https://www.metacritic.com/game/playstation-5/elden-ring'}\n",
    "url='https://www.metacritic.com/game/playstation-5/elden-ring'\n",
    "req=requests.get(url,headers=hur)\n",
    "bsoup=BeautifulSoup(req.content,'html.parser',from_encoding='utf-8') #beautifulsoup객체선언\n",
    "q1=bsoup.find(\"div\",{\"class\":\"details main_details\"})\n",
    "temp=bsoup.find(\"span\",{\"class\":\"blurb blurb_expanded\"}).text\n",
    "print(temp)"
   ]
  },
  {
   "cell_type": "markdown",
   "id": "54d833d2",
   "metadata": {},
   "source": [
    "정해진 플랫폼에 따라 크롤링하는 함수"
   ]
  },
  {
   "cell_type": "code",
   "execution_count": null,
   "id": "a0b5a58b",
   "metadata": {},
   "outputs": [],
   "source": [
    "def crawl_direct(platform,df):\n",
    "    url=\"https://www.metacritic.com/browse/games/release-date/available/\"+platform+\"/metascore?page=0\"\n",
    "    req=requests.get(url,{'User-Agent':'Mozilla','referer':url})\n",
    "    bsoup=BeautifulSoup(req.content,'html.parser',from_encoding='utf-8')"
   ]
  }
 ],
 "metadata": {
  "kernelspec": {
   "display_name": "Python 3 (ipykernel)",
   "language": "python",
   "name": "python3"
  },
  "language_info": {
   "codemirror_mode": {
    "name": "ipython",
    "version": 3
   },
   "file_extension": ".py",
   "mimetype": "text/x-python",
   "name": "python",
   "nbconvert_exporter": "python",
   "pygments_lexer": "ipython3",
   "version": "3.7.11"
  }
 },
 "nbformat": 4,
 "nbformat_minor": 5
}
